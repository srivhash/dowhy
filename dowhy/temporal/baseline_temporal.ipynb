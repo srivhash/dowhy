{
 "cells": [
  {
   "cell_type": "code",
   "execution_count": null,
   "metadata": {},
   "outputs": [],
   "source": [
    "# replace weight by a custom graph input\n",
    "# create library functions"
   ]
  },
  {
   "cell_type": "code",
   "execution_count": 4,
   "metadata": {},
   "outputs": [],
   "source": [
    "import networkx as nx\n",
    "import pandas as pd\n",
    "import matplotlib.pyplot as plt"
   ]
  },
  {
   "cell_type": "markdown",
   "metadata": {},
   "source": [
    "## Taking Causal Graph as Input"
   ]
  },
  {
   "cell_type": "code",
   "execution_count": 1,
   "metadata": {},
   "outputs": [],
   "source": [
    "def create_graph_from_user():\n",
    "    # Initialize an empty directed graph\n",
    "    graph = nx.DiGraph()\n",
    "    \n",
    "    # Instructions for the user\n",
    "    print(\"Enter the graph as a list of edges with time lags. Enter 'done' when you are finished.\")\n",
    "    print(\"Each edge should be entered in the format 'node1 node2 time_lag'. For example: 'A B 4'\")\n",
    "    \n",
    "    # Loop to receive user input\n",
    "    while True:\n",
    "        edge = input(\"Enter an edge: \")\n",
    "        if edge.lower() == \"done\":\n",
    "            break\n",
    "        edge = edge.split()\n",
    "        if len(edge) != 3:\n",
    "            print(\"Invalid edge. Please enter an edge in the format 'node1 node2 time_lag'.\")\n",
    "            continue\n",
    "        node1, node2, time_lag = edge\n",
    "        try:\n",
    "            time_lag = float(time_lag)\n",
    "        except ValueError:\n",
    "            print(\"Invalid weight. Please enter a numerical value for the time_lag.\")\n",
    "            continue\n",
    "        graph.add_edge(node1, node2, time_lag=time_lag)\n",
    "    \n",
    "    return graph"
   ]
  },
  {
   "cell_type": "code",
   "execution_count": 2,
   "metadata": {},
   "outputs": [],
   "source": [
    "def create_graph_from_csv(file_path):\n",
    "    # Read the CSV file into a DataFrame\n",
    "    df = pd.read_csv(file_path)\n",
    "    \n",
    "    # Initialize an empty directed graph\n",
    "    graph = nx.DiGraph()\n",
    "    \n",
    "    # Add edges with weights to the graph\n",
    "    for index, row in df.iterrows():\n",
    "        graph.add_edge(row['node1'], row['node2'], time_lag=row['time_lag'])\n",
    "    \n",
    "    return graph"
   ]
  },
  {
   "cell_type": "markdown",
   "metadata": {},
   "source": [
    "- The user can either create a csv file with the edges in the graph or input the edges manually"
   ]
  },
  {
   "cell_type": "code",
   "execution_count": 13,
   "metadata": {},
   "outputs": [],
   "source": [
    "def pretty_print_graph(graph):\n",
    "    # Display the entered graph\n",
    "    print(\"\\nGraph edges with time lags:\")\n",
    "    for edge in graph.edges(data=True):\n",
    "        print(f\"{edge[0]} -> {edge[1]} with time-lagged dependency {edge[2]['time_lag']}\")"
   ]
  },
  {
   "cell_type": "code",
   "execution_count": 14,
   "metadata": {},
   "outputs": [],
   "source": [
    "def display_networkx_graph(graph):\n",
    "    # Draw and display the graph\n",
    "    pos = nx.spring_layout(graph)\n",
    "    nx.draw(graph, pos, with_labels=True)\n",
    "    labels = nx.get_edge_attributes(graph, 'time_lag')\n",
    "    nx.draw_networkx_edge_labels(graph, pos, edge_labels=labels)\n",
    "    plt.show()"
   ]
  },
  {
   "cell_type": "code",
   "execution_count": 15,
   "metadata": {},
   "outputs": [
    {
     "name": "stdout",
     "output_type": "stream",
     "text": [
      "\n",
      "Graph edges with time lags:\n",
      "1 -> 2 with time-lagged dependency 4\n",
      "2 -> 3 with time-lagged dependency 5\n",
      "4 -> 5 with time-lagged dependency 1\n",
      "5 -> 6 with time-lagged dependency 3\n"
     ]
    },
    {
     "data": {
      "image/png": "[encoded data removed]",
      "text/plain": [
       "<Figure size 640x480 with 1 Axes>"
      ]
     },
     "metadata": {},
     "output_type": "display_data"
    }
   ],
   "source": [
    "# Prompt user to input the path to the CSV file\n",
    "file_path = \"./temporal_graph.csv\"\n",
    "\n",
    "# Create the graph from the CSV file\n",
    "graph = create_graph_from_csv(file_path)\n",
    "pretty_print_graph(graph)\n",
    "display_networkx_graph(graph)"
   ]
  },
  {
   "cell_type": "markdown",
   "metadata": {},
   "source": [
    "## Dataset Shifting and Preprocessing"
   ]
  },
  {
   "cell_type": "code",
   "execution_count": 21,
   "metadata": {},
   "outputs": [],
   "source": [
    "# create a function that returns a dictionary of node:weight for all the parent nodes of a given node in the networkx\n",
    "# graph\n",
    "def find_lagged_parent_nodes(graph, node):\n",
    "    parent_nodes = {}\n",
    "    for n in graph.predecessors(node):\n",
    "        edge_data = graph.get_edge_data(n, node)\n",
    "        if 'time_lag' in edge_data:\n",
    "            parent_nodes[str(n)] = edge_data['time_lag']\n",
    "    return parent_nodes"
   ]
  },
  {
   "cell_type": "code",
   "execution_count": 22,
   "metadata": {},
   "outputs": [
    {
     "data": {
      "text/plain": [
       "{'4': 1}"
      ]
     },
     "execution_count": 22,
     "metadata": {},
     "output_type": "execute_result"
    }
   ],
   "source": [
    "# read the dataframe in a csv format from the user, and then ask the user to select any 2 rows for \n",
    "# the effect estimation usecase\n",
    "dataset_path=\"dummy_dataset.csv\"\n",
    "dataframe=pd.read_csv(dataset_path)\n",
    "\n",
    "# ask the node for which effect estimation has to be done\n",
    "child_node = int(input(\"enter the node which requires effect estimation to be done\"))\n",
    "\n",
    "# find the parent nodes of the given node with respective lag times\n",
    "parents = find_lagged_parent_nodes(graph, child_node)\n",
    "parents"
   ]
  },
  {
   "cell_type": "code",
   "execution_count": 23,
   "metadata": {},
   "outputs": [],
   "source": [
    "# once we have the parent dictionary then we can parse it and shift columns within the dataframe with the appropriate lag\n",
    "def shift_columns(df, parents):\n",
    "    new_df = df.copy()\n",
    "    for column, shift in parents.items():\n",
    "        column=str(column)\n",
    "        if shift > 0:\n",
    "            new_df[column] = new_df[column].shift(shift, axis=0, fill_value=None)\n",
    "        # elif shift < 0:\n",
    "        #     new_df[column] = new_df[column].shift(shift, axis=0, fill_value=None)\n",
    "        #     new_df.drop(new_df.index[0:abs(shift)], axis=0, inplace=True)\n",
    "    return new_df"
   ]
  },
  {
   "cell_type": "code",
   "execution_count": 24,
   "metadata": {},
   "outputs": [],
   "source": [
    "time_shifted_df = shift_columns(dataframe,parents)"
   ]
  },
  {
   "cell_type": "code",
   "execution_count": 25,
   "metadata": {},
   "outputs": [
    {
     "data": {
      "text/html": [
       "<div>\n",
       "<style scoped>\n",
       "    .dataframe tbody tr th:only-of-type {\n",
       "        vertical-align: middle;\n",
       "    }\n",
       "\n",
       "    .dataframe tbody tr th {\n",
       "        vertical-align: top;\n",
       "    }\n",
       "\n",
       "    .dataframe thead th {\n",
       "        text-align: right;\n",
       "    }\n",
       "</style>\n",
       "<table border=\"1\" class=\"dataframe\">\n",
       "  <thead>\n",
       "    <tr style=\"text-align: right;\">\n",
       "      <th></th>\n",
       "      <th>1</th>\n",
       "      <th>2</th>\n",
       "      <th>3</th>\n",
       "      <th>4</th>\n",
       "      <th>5</th>\n",
       "      <th>6</th>\n",
       "    </tr>\n",
       "  </thead>\n",
       "  <tbody>\n",
       "    <tr>\n",
       "      <th>0</th>\n",
       "      <td>0.1</td>\n",
       "      <td>0.2</td>\n",
       "      <td>0.3</td>\n",
       "      <td>NaN</td>\n",
       "      <td>0.5</td>\n",
       "      <td>0.6</td>\n",
       "    </tr>\n",
       "    <tr>\n",
       "      <th>1</th>\n",
       "      <td>0.1</td>\n",
       "      <td>0.2</td>\n",
       "      <td>0.3</td>\n",
       "      <td>1.0</td>\n",
       "      <td>0.5</td>\n",
       "      <td>0.6</td>\n",
       "    </tr>\n",
       "    <tr>\n",
       "      <th>2</th>\n",
       "      <td>0.1</td>\n",
       "      <td>0.2</td>\n",
       "      <td>0.3</td>\n",
       "      <td>2.0</td>\n",
       "      <td>0.5</td>\n",
       "      <td>0.6</td>\n",
       "    </tr>\n",
       "    <tr>\n",
       "      <th>3</th>\n",
       "      <td>0.1</td>\n",
       "      <td>0.2</td>\n",
       "      <td>0.3</td>\n",
       "      <td>3.0</td>\n",
       "      <td>0.5</td>\n",
       "      <td>0.6</td>\n",
       "    </tr>\n",
       "    <tr>\n",
       "      <th>4</th>\n",
       "      <td>0.1</td>\n",
       "      <td>0.2</td>\n",
       "      <td>0.3</td>\n",
       "      <td>4.0</td>\n",
       "      <td>0.5</td>\n",
       "      <td>0.6</td>\n",
       "    </tr>\n",
       "  </tbody>\n",
       "</table>\n",
       "</div>"
      ],
      "text/plain": [
       "     1    2    3    4    5    6\n",
       "0  0.1  0.2  0.3  NaN  0.5  0.6\n",
       "1  0.1  0.2  0.3  1.0  0.5  0.6\n",
       "2  0.1  0.2  0.3  2.0  0.5  0.6\n",
       "3  0.1  0.2  0.3  3.0  0.5  0.6\n",
       "4  0.1  0.2  0.3  4.0  0.5  0.6"
      ]
     },
     "execution_count": 25,
     "metadata": {},
     "output_type": "execute_result"
    }
   ],
   "source": [
    "time_shifted_df.head()"
   ]
  },
  {
   "cell_type": "code",
   "execution_count": 26,
   "metadata": {},
   "outputs": [],
   "source": [
    "def filter_columns(df, child_node, parent_nodes):\n",
    "    columns_to_keep = [str(child_node)] + list(parent_nodes.keys())\n",
    "    filtered_df = df[columns_to_keep]\n",
    "    return filtered_df"
   ]
  },
  {
   "cell_type": "code",
   "execution_count": 27,
   "metadata": {},
   "outputs": [],
   "source": [
    "filtered_ts_df = filter_columns(time_shifted_df,child_node,parents)"
   ]
  },
  {
   "cell_type": "code",
   "execution_count": 28,
   "metadata": {},
   "outputs": [
    {
     "data": {
      "text/html": [
       "<div>\n",
       "<style scoped>\n",
       "    .dataframe tbody tr th:only-of-type {\n",
       "        vertical-align: middle;\n",
       "    }\n",
       "\n",
       "    .dataframe tbody tr th {\n",
       "        vertical-align: top;\n",
       "    }\n",
       "\n",
       "    .dataframe thead th {\n",
       "        text-align: right;\n",
       "    }\n",
       "</style>\n",
       "<table border=\"1\" class=\"dataframe\">\n",
       "  <thead>\n",
       "    <tr style=\"text-align: right;\">\n",
       "      <th></th>\n",
       "      <th>5</th>\n",
       "      <th>4</th>\n",
       "    </tr>\n",
       "  </thead>\n",
       "  <tbody>\n",
       "    <tr>\n",
       "      <th>0</th>\n",
       "      <td>0.5</td>\n",
       "      <td>0.0</td>\n",
       "    </tr>\n",
       "    <tr>\n",
       "      <th>1</th>\n",
       "      <td>0.5</td>\n",
       "      <td>1.0</td>\n",
       "    </tr>\n",
       "    <tr>\n",
       "      <th>2</th>\n",
       "      <td>0.5</td>\n",
       "      <td>2.0</td>\n",
       "    </tr>\n",
       "    <tr>\n",
       "      <th>3</th>\n",
       "      <td>0.5</td>\n",
       "      <td>3.0</td>\n",
       "    </tr>\n",
       "    <tr>\n",
       "      <th>4</th>\n",
       "      <td>0.5</td>\n",
       "      <td>4.0</td>\n",
       "    </tr>\n",
       "  </tbody>\n",
       "</table>\n",
       "</div>"
      ],
      "text/plain": [
       "     5    4\n",
       "0  0.5  0.0\n",
       "1  0.5  1.0\n",
       "2  0.5  2.0\n",
       "3  0.5  3.0\n",
       "4  0.5  4.0"
      ]
     },
     "execution_count": 28,
     "metadata": {},
     "output_type": "execute_result"
    }
   ],
   "source": [
    "df=filtered_ts_df.fillna(0)\n",
    "df.head()"
   ]
  },
  {
   "cell_type": "markdown",
   "metadata": {},
   "source": [
    "## Cause Estimation using Dowhy"
   ]
  },
  {
   "cell_type": "code",
   "execution_count": 29,
   "metadata": {},
   "outputs": [
    {
     "name": "stderr",
     "output_type": "stream",
     "text": [
      "c:\\Users\\t-ashutoshs\\AppData\\Local\\Programs\\Python\\Python39\\lib\\site-packages\\tqdm\\auto.py:21: TqdmWarning: IProgress not found. Please update jupyter and ipywidgets. See https://ipywidgets.readthedocs.io/en/stable/user_install.html\n",
      "  from .autonotebook import tqdm as notebook_tqdm\n"
     ]
    },
    {
     "name": "stdout",
     "output_type": "stream",
     "text": [
      "*** Causal Estimate ***\n",
      "\n",
      "## Identified estimand\n",
      "Estimand type: EstimandType.NONPARAMETRIC_ATE\n",
      "\n",
      "### Estimand : 1\n",
      "Estimand name: backdoor\n",
      "Estimand expression:\n",
      " d        \n",
      "────(E[5])\n",
      "d[4]      \n",
      "Estimand assumption 1, Unconfoundedness: If U→{4} and U→5 then P(5|4,,U) = P(5|4,)\n",
      "\n",
      "## Realized estimand\n",
      "b: 5~4\n",
      "Target units: ate\n",
      "\n",
      "## Estimate\n",
      "Mean value: 0.0\n",
      "\n"
     ]
    },
    {
     "name": "stderr",
     "output_type": "stream",
     "text": [
      "c:\\Users\\t-ashutoshs\\AppData\\Local\\Programs\\Python\\Python39\\lib\\site-packages\\scipy\\stats\\_axis_nan_policy.py:531: UserWarning: kurtosistest only valid for n>=20 ... continuing anyway, n=10\n",
      "  res = hypotest_fun_out(*samples, **kwds)\n",
      "c:\\Users\\t-ashutoshs\\AppData\\Local\\Programs\\Python\\Python39\\lib\\site-packages\\statsmodels\\regression\\linear_model.py:1752: RuntimeWarning: divide by zero encountered in double_scalars\n",
      "  return 1 - self.ssr/self.centered_tss\n"
     ]
    }
   ],
   "source": [
    "# perform causal effect estimation on this new dataset\n",
    "import dowhy\n",
    "from dowhy import CausalModel\n",
    "\n",
    "# Assuming 'df' is your DataFrame, 'treatment' is your treatment variable, and 'outcome' is your outcome variable\n",
    "# Also assuming 'common_causes' is a list of common cause variables\n",
    "\n",
    "model = CausalModel(\n",
    "    data=df,\n",
    "    treatment='4',\n",
    "    outcome='5',\n",
    "    # common_causes='4',\n",
    "    proceed_when_unidentifiable=True  # Proceed even if the causal graph is not fully identifiable\n",
    ")\n",
    "\n",
    "identified_estimand = model.identify_effect()\n",
    "\n",
    "estimate = model.estimate_effect(identified_estimand,\n",
    "                                 method_name=\"backdoor.linear_regression\",\n",
    "                                 test_significance=True)\n",
    "\n",
    "print(estimate)"
   ]
  }
 ],
 "metadata": {
  "kernelspec": {
   "display_name": "Python 3",
   "language": "python",
   "name": "python3"
  },
  "language_info": {
   "codemirror_mode": {
    "name": "ipython",
    "version": 3
   },
   "file_extension": ".py",
   "mimetype": "text/x-python",
   "name": "python",
   "nbconvert_exporter": "python",
   "pygments_lexer": "ipython3",
   "version": "3.9.13"
  }
 },
 "nbformat": 4,
 "nbformat_minor": 2
}

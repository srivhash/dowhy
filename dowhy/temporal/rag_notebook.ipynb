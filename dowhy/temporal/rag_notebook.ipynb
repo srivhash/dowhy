{
 "cells": [
  {
   "cell_type": "code",
   "execution_count": null,
   "metadata": {},
   "outputs": [],
   "source": [
    "nice, that's a good idea\n",
    "see if you can collect more information about the erroneous pairs (may be sample 5-6 of them) and check if your accuracy improves"
   ]
  }
 ],
 "metadata": {
  "language_info": {
   "name": "python"
  }
 },
 "nbformat": 4,
 "nbformat_minor": 2
}
